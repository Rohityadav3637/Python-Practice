{
 "cells": [
  {
   "cell_type": "code",
   "execution_count": null,
   "metadata": {},
   "outputs": [],
   "source": []
  },
  {
   "cell_type": "markdown",
   "metadata": {},
   "source": [
    "# installing Pandas "
   ]
  },
  {
   "cell_type": "code",
   "execution_count": null,
   "metadata": {},
   "outputs": [
    {
     "name": "stdout",
     "output_type": "stream",
     "text": [
      "Collecting pandas\n",
      "  Downloading pandas-2.2.2-cp312-cp312-macosx_11_0_arm64.whl.metadata (19 kB)\n",
      "Requirement already satisfied: numpy>=1.26.0 in /Users/anushkajain/micromamba/lib/python3.12/site-packages (from pandas) (2.0.0)\n",
      "Requirement already satisfied: python-dateutil>=2.8.2 in /Users/anushkajain/micromamba/lib/python3.12/site-packages (from pandas) (2.9.0)\n",
      "Requirement already satisfied: pytz>=2020.1 in /Users/anushkajain/micromamba/lib/python3.12/site-packages (from pandas) (2024.1)\n",
      "Collecting tzdata>=2022.7 (from pandas)\n",
      "  Downloading tzdata-2024.1-py2.py3-none-any.whl.metadata (1.4 kB)\n",
      "Requirement already satisfied: six>=1.5 in /Users/anushkajain/micromamba/lib/python3.12/site-packages (from python-dateutil>=2.8.2->pandas) (1.16.0)\n",
      "Downloading pandas-2.2.2-cp312-cp312-macosx_11_0_arm64.whl (11.3 MB)\n",
      "\u001b[2K   \u001b[90m━━━━━━━━━━━━━━━━━━━━━━━━━━━━━━━━━━━━━━━━\u001b[0m \u001b[32m11.3/11.3 MB\u001b[0m \u001b[31m4.4 MB/s\u001b[0m eta \u001b[36m0:00:00\u001b[0m00:01\u001b[0m00:01\u001b[0m\n",
      "\u001b[?25hDownloading tzdata-2024.1-py2.py3-none-any.whl (345 kB)\n",
      "\u001b[2K   \u001b[90m━━━━━━━━━━━━━━━━━━━━━━━━━━━━━━━━━━━━━━━━\u001b[0m \u001b[32m345.4/345.4 kB\u001b[0m \u001b[31m3.2 MB/s\u001b[0m eta \u001b[36m0:00:00\u001b[0ma \u001b[36m0:00:01\u001b[0m\n",
      "\u001b[?25hInstalling collected packages: tzdata, pandas\n",
      "Successfully installed pandas-2.2.2 tzdata-2024.1\n",
      "Note: you may need to restart the kernel to use updated packages.\n"
     ]
    }
   ],
   "source": [
    "pip install pandas"
   ]
  },
  {
   "cell_type": "code",
   "execution_count": null,
   "metadata": {},
   "outputs": [
    {
     "name": "stdout",
     "output_type": "stream",
     "text": [
      "Pandas is installed.\n",
      "Pandas version: 2.2.2\n"
     ]
    }
   ],
   "source": [
    "# Verifying the Installation and Version\n",
    "\n",
    "# importing pandas \n",
    "import pandas as pd\n",
    "print(\"Pandas is installed.\")\n",
    "\n",
    "# Checking the Pandas Version\n",
    "print(\"Pandas version:\", pd.__version__)\n"
   ]
  },
  {
   "cell_type": "markdown",
   "metadata": {},
   "source": [
    "## Working with Pandas Series\n",
    "A Series is a one-dimensional array-like object capable of holding any data type. It is similar to a column in a table."
   ]
  },
  {
   "cell_type": "code",
   "execution_count": null,
   "metadata": {},
   "outputs": [
    {
     "name": "stdout",
     "output_type": "stream",
     "text": [
      "0    1\n",
      "1    2\n",
      "2    3\n",
      "3    4\n",
      "4    5\n",
      "dtype: int64\n",
      "a    1\n",
      "b    2\n",
      "c    3\n",
      "dtype: int64\n",
      "0    5\n",
      "1    5\n",
      "2    5\n",
      "3    5\n",
      "dtype: int64\n"
     ]
    }
   ],
   "source": [
    "# Creating a Series\n",
    "\n",
    "# From a list\n",
    "data = [1, 2, 3, 4, 5]\n",
    "series = pd.Series(data)\n",
    "print(series)\n",
    "\n",
    "# From a dictionary\n",
    "data = {'a': 1, 'b': 2, 'c': 3}\n",
    "series = pd.Series(data)\n",
    "print(series)\n",
    "\n",
    "# From a scalar value\n",
    "series = pd.Series(5, index=[0, 1, 2, 3])\n",
    "print(series)\n"
   ]
  },
  {
   "cell_type": "code",
   "execution_count": null,
   "metadata": {},
   "outputs": [
    {
     "name": "stdout",
     "output_type": "stream",
     "text": [
      "5\n"
     ]
    }
   ],
   "source": [
    "# Accessing Series Elements\n",
    "\n",
    "print(series[0])\n"
   ]
  },
  {
   "cell_type": "code",
   "execution_count": null,
   "metadata": {},
   "outputs": [
    {
     "name": "stdout",
     "output_type": "stream",
     "text": [
      "Index: Index([0, 1, 2, 3], dtype='int64')\n",
      "Values: [5 5 5 5]\n",
      "Data type: int64\n",
      "Size: 4\n"
     ]
    }
   ],
   "source": [
    "# common attributes \n",
    "\n",
    "# index: Returns the index labels of the Series.\n",
    "print(\"Index:\", series.index)\n",
    "\n",
    "# values: Returns the underlying values in the Series as a NumPy array.\n",
    "print(\"Values:\", series.values)\n",
    "\n",
    "# dtype: Provides the data type of the Series elements.\n",
    "print(\"Data type:\", series.dtype)\n",
    "\n",
    "# size: Returns the number of elements in the Series.\n",
    "print(\"Size:\", series.size)"
   ]
  },
  {
   "cell_type": "code",
   "execution_count": null,
   "metadata": {},
   "outputs": [
    {
     "name": "stdout",
     "output_type": "stream",
     "text": [
      "First two elements: 0    5\n",
      "1    5\n",
      "dtype: int64\n",
      "Last two elements: 2    5\n",
      "3    5\n",
      "dtype: int64\n",
      "Sorted values: 0    5\n",
      "1    5\n",
      "2    5\n",
      "3    5\n",
      "dtype: int64\n",
      "Mean of the Series: 5.0\n"
     ]
    }
   ],
   "source": [
    "# common methods\n",
    "\n",
    "# head(n): Returns the first n elements of the Series.\n",
    "print(\"First two elements:\", series.head(2))\n",
    "\n",
    "# tail(n): Returns the last n elements.\n",
    "print(\"Last two elements:\", series.tail(2))\n",
    "\n",
    "# sort_values(): Sorts the Series by its values.\n",
    "print(\"Sorted values:\", series.sort_values())\n",
    "\n",
    "# mean(), median(), std(): Compute common statistics.\n",
    "print(\"Mean of the Series:\", series.mean())\n"
   ]
  },
  {
   "cell_type": "code",
   "execution_count": null,
   "metadata": {},
   "outputs": [
    {
     "name": "stdout",
     "output_type": "stream",
     "text": [
      "   Series_reference   Period  Data_value   STATUS    UNITS  MAGNTUDE  \\\n",
      "0  GFSA.SCS01G01Z90  2009.06        3374  REVISED  Dollars         6   \n",
      "1  GFSA.SCS01G01Z90  2010.06       -3940  REVISED  Dollars         6   \n",
      "2  GFSA.SCS01G01Z90  2011.06      -13165  REVISED  Dollars         6   \n",
      "3  GFSA.SCS01G01Z90  2012.06       -3956  REVISED  Dollars         6   \n",
      "4  GFSA.SCS01G01Z90  2013.06       -1066  REVISED  Dollars         6   \n",
      "\n",
      "                                 Subject  \\\n",
      "0  Government Financial Statistics - GFS   \n",
      "1  Government Financial Statistics - GFS   \n",
      "2  Government Financial Statistics - GFS   \n",
      "3  Government Financial Statistics - GFS   \n",
      "4  Government Financial Statistics - GFS   \n",
      "\n",
      "                                               Group         Series_title_1  \\\n",
      "0  Central Government, Operating Statement, Net B...  Net operating balance   \n",
      "1  Central Government, Operating Statement, Net B...  Net operating balance   \n",
      "2  Central Government, Operating Statement, Net B...  Net operating balance   \n",
      "3  Central Government, Operating Statement, Net B...  Net operating balance   \n",
      "4  Central Government, Operating Statement, Net B...  Net operating balance   \n",
      "\n",
      "  Series_title_2 Series_title_3 Series_title_4  Series_title_5  \n",
      "0            NaN            NaN            NaN             NaN  \n",
      "1            NaN            NaN            NaN             NaN  \n",
      "2            NaN            NaN            NaN             NaN  \n",
      "3            NaN            NaN            NaN             NaN  \n",
      "4            NaN            NaN            NaN             NaN  \n"
     ]
    }
   ],
   "source": [
    "# Reading a CSV file\n",
    "df = pd.read_csv('nacgfs-jun-2023.csv')\n",
    "print(df.head())"
   ]
  }
 ],
 "metadata": {
  "language_info": {
   "name": "python"
  }
 },
 "nbformat": 4,
 "nbformat_minor": 2
}
