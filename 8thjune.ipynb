{
 "cells": [
  {
   "cell_type": "markdown",
   "metadata": {},
   "source": [
    "**Inharitance**"
   ]
  },
  {
   "cell_type": "code",
   "execution_count": 9,
   "metadata": {},
   "outputs": [],
   "source": [
    "class car:\n",
    "    {body}\n",
    "\n",
    "class toyotacar(car):  \n",
    "   {body}"
   ]
  },
  {
   "cell_type": "markdown",
   "metadata": {},
   "source": [
    "**Single level inharitance**"
   ]
  },
  {
   "cell_type": "code",
   "execution_count": 26,
   "metadata": {},
   "outputs": [
    {
     "name": "stdout",
     "output_type": "stream",
     "text": [
      "Fortuner\n",
      "car stated\n",
      "None\n"
     ]
    }
   ],
   "source": [
    "class car:\n",
    "    @staticmethod\n",
    "    def start():\n",
    "        print(\"car stated\")\n",
    "    @staticmethod    \n",
    "    def stop():\n",
    "        print(\"car stopped\")\n",
    "        \n",
    "class toyotacar(car):\n",
    "    def __init__(self,name):\n",
    "        self.name = name\n",
    "        \n",
    "car1 = toyotacar(\"Fortuner\")\n",
    "car2 = toyotacar(\"prius\") \n",
    "\n",
    "print(car1.name)\n",
    "print(car2.start())"
   ]
  },
  {
   "cell_type": "markdown",
   "metadata": {},
   "source": [
    "**Multi-level Inharitance**"
   ]
  },
  {
   "cell_type": "code",
   "execution_count": 25,
   "metadata": {},
   "outputs": [
    {
     "name": "stdout",
     "output_type": "stream",
     "text": [
      "car started\n"
     ]
    }
   ],
   "source": [
    "class car:\n",
    "    @staticmethod\n",
    "    def start():\n",
    "        print(\"car started\")\n",
    "    @staticmethod   \n",
    "    def stop():\n",
    "        print(\"car stopped\")\n",
    "        \n",
    "class toyotacar(car):\n",
    "    def __init__(self, brand):\n",
    "        self.brand = brand\n",
    "        \n",
    "class Fortuner(toyotacar):\n",
    "    def __init__(self, type):\n",
    "        self.type = type\n",
    "        \n",
    "car1 = Fortuner(\"diesel\")\n",
    "car1.start()\n"
   ]
  },
  {
   "cell_type": "markdown",
   "metadata": {},
   "source": [
    "**Multiple Inharitance**"
   ]
  },
  {
   "cell_type": "code",
   "execution_count": 27,
   "metadata": {},
   "outputs": [
    {
     "name": "stdout",
     "output_type": "stream",
     "text": [
      "Animal speaks\n",
      "I can fly\n",
      "Bird chirps\n"
     ]
    }
   ],
   "source": [
    "class Animal:\n",
    "    def speak(self):\n",
    "        print(\"Animal speaks\")\n",
    "\n",
    "class Flyable:\n",
    "    def fly(self):\n",
    "        print(\"I can fly\")\n",
    "\n",
    "class Bird(Animal, Flyable):\n",
    "    def chirp(self):\n",
    "        print(\"Bird chirps\")\n",
    "\n",
    "# Creating an instance of Bird\n",
    "sparrow = Bird()\n",
    "\n",
    "# Accessing methods from all parent classes\n",
    "sparrow.speak()  \n",
    "sparrow.fly()    \n",
    "sparrow.chirp()\n",
    "    "
   ]
  },
  {
   "cell_type": "markdown",
   "metadata": {},
   "source": [
    "**Hierarchical Inherarchical**"
   ]
  },
  {
   "cell_type": "code",
   "execution_count": 28,
   "metadata": {},
   "outputs": [
    {
     "name": "stdout",
     "output_type": "stream",
     "text": [
      "Buddy barks: Woof!\n",
      "Buddy fetches the ball.\n",
      "Whiskers meows: Meow!\n",
      "Whiskers scratches the furniture.\n"
     ]
    }
   ],
   "source": [
    "class Animal:\n",
    "    def __init__(self, name):\n",
    "        self.name = name\n",
    "\n",
    "    def speak(self):\n",
    "        print(f\"{self.name} makes a sound.\")\n",
    "\n",
    "class Dog(Animal):\n",
    "    def speak(self):\n",
    "        print(f\"{self.name} barks: Woof!\")\n",
    "\n",
    "    def fetch(self):\n",
    "        print(f\"{self.name} fetches the ball.\")\n",
    "\n",
    "class Cat(Animal):\n",
    "    def speak(self):\n",
    "        print(f\"{self.name} meows: Meow!\")\n",
    "\n",
    "    def scratch(self):\n",
    "        print(f\"{self.name} scratches the furniture.\")\n",
    "\n",
    "# Creating instances\n",
    "pet1 = Dog(\"Buddy\")\n",
    "pet2 = Cat(\"Whiskers\")\n",
    "\n",
    "# Using methods\n",
    "pet1.speak()  # Output: Buddy barks: Woof!\n",
    "pet1.fetch()  # Output: Buddy fetches the ball.\n",
    "\n",
    "pet2.speak()  # Output: Whiskers meows: Meow!\n",
    "pet2.scratch()  # Output: Whiskers scratches the furniture."
   ]
  },
  {
   "cell_type": "markdown",
   "metadata": {},
   "source": [
    "**Hybride inharitance**"
   ]
  },
  {
   "cell_type": "code",
   "execution_count": 30,
   "metadata": {},
   "outputs": [
    {
     "name": "stdout",
     "output_type": "stream",
     "text": [
      "Brand: Hydra\n",
      "Engine started\n",
      "Car is driving\n",
      "Boat is sailing\n",
      "Transforming from car to boat or vice versa\n"
     ]
    }
   ],
   "source": [
    "class Vehicle:\n",
    "    def __init__(self, brand):\n",
    "        self.brand = brand\n",
    "\n",
    "    def display_brand(self):\n",
    "        print(f\"Brand: {self.brand}\")\n",
    "\n",
    "class Engine:\n",
    "    def start_engine(self):\n",
    "        print(\"Engine started\")\n",
    "\n",
    "class Car(Vehicle):\n",
    "    def drive(self):\n",
    "        print(\"Car is driving\")\n",
    "\n",
    "class Boat(Vehicle):\n",
    "    def sail(self):\n",
    "        print(\"Boat is sailing\")\n",
    "\n",
    "class AmphibiousCar(Car, Boat, Engine):\n",
    "    def transform(self):\n",
    "        print(\"Transforming from car to boat or vice versa\")\n",
    "\n",
    "# Creating an instance of AmphibiousCar\n",
    "amphibious_vehicle = AmphibiousCar(\"Hydra\")\n",
    "\n",
    "# Using methods from all parent classes\n",
    "amphibious_vehicle.display_brand()  \n",
    "amphibious_vehicle.start_engine()   \n",
    "amphibious_vehicle.drive()         \n",
    "amphibious_vehicle.sail()         \n",
    "amphibious_vehicle.transform()      "
   ]
  },
  {
   "cell_type": "markdown",
   "metadata": {},
   "source": [
    "**Overriding Mehtod**"
   ]
  },
  {
   "cell_type": "code",
   "execution_count": null,
   "metadata": {},
   "outputs": [],
   "source": [
    "class Animal:\n",
    "    def __init__(self, name):\n",
    "        self.name = name\n",
    "\n",
    "    def make_sound(self):\n",
    "        print(f\"{self.name} makes a generic sound.\")\n",
    "\n",
    "class Dog(Animal):\n",
    "    def make_sound(self):\n",
    "        print(f\"{self.name} barks: Woof! Woof!\")\n",
    "\n",
    "class Cat(Animal):\n",
    "    def make_sound(self):\n",
    "        print(f\"{self.name} meows: Meow! Meow!\")\n",
    "\n",
    "# Creating instances\n",
    "generic_animal = Animal(\"Unknown\")\n",
    "dog = Dog(\"Buddy\")\n",
    "cat = Cat(\"Whiskers\")\n",
    "\n",
    "# Calling the make_sound method\n",
    "generic_animal.make_sound() \n",
    "dog.make_sound()            \n",
    "cat.make_sound()            "
   ]
  }
 ],
 "metadata": {
  "kernelspec": {
   "display_name": "Python 3",
   "language": "python",
   "name": "python3"
  },
  "language_info": {
   "codemirror_mode": {
    "name": "ipython",
    "version": 3
   },
   "file_extension": ".py",
   "mimetype": "text/x-python",
   "name": "python",
   "nbconvert_exporter": "python",
   "pygments_lexer": "ipython3",
   "version": "3.11.4"
  }
 },
 "nbformat": 4,
 "nbformat_minor": 2
}
