{
 "cells": [
  {
   "cell_type": "markdown",
   "metadata": {},
   "source": [
    "## List"
   ]
  },
  {
   "cell_type": "markdown",
   "metadata": {},
   "source": [
    "**Here there are some practice questions on Basic Operations with Lists**"
   ]
  },
  {
   "cell_type": "code",
   "execution_count": 4,
   "metadata": {},
   "outputs": [
    {
     "name": "stdout",
     "output_type": "stream",
     "text": [
      "Sum of all elements: 150\n",
      "Largest element: 50\n",
      "Sorted list: [10, 20, 30, 40, 50]\n",
      "Reversed list: [50, 40, 30, 20, 10]\n"
     ]
    }
   ],
   "source": [
    "# Sample List\n",
    "numbers = [10, 20, 30, 40, 50]\n",
    "\n",
    "# Practice Question 1: Sum of Elements in list\n",
    "total_sum = sum(numbers)\n",
    "print(\"Sum of all elements:\", total_sum)\n",
    "\n",
    "# Practice Question 2: Find the Largest Element in the list\n",
    "largest = max(numbers)\n",
    "print(\"Largest element:\", largest)\n",
    "\n",
    "# Practice Question 3: Sort the List in ascending order \n",
    "numbers_unsorted = [50, 20, 30, 10, 40]\n",
    "sorted_numbers = sorted(numbers_unsorted)\n",
    "print(\"Sorted list:\", sorted_numbers)\n",
    "\n",
    "# Practice Question 54: Reverse the List\n",
    "reversed_numbers = list(reversed(numbers))\n",
    "print(\"Reversed list:\", reversed_numbers)\n"
   ]
  },
  {
   "cell_type": "markdown",
   "metadata": {},
   "source": [
    "**Here there are some practice questions on Indexing and Slicing**"
   ]
  },
  {
   "cell_type": "code",
   "execution_count": 5,
   "metadata": {},
   "outputs": [
    {
     "name": "stdout",
     "output_type": "stream",
     "text": [
      "First element: 10\n",
      "Last element: 100\n",
      "First three elements: [10, 20, 30]\n",
      "Last three elements: [80, 90, 100]\n",
      "Every second element: [10, 30, 50, 70, 90]\n"
     ]
    }
   ],
   "source": [
    "# Sample List\n",
    "numbers = [10, 20, 30, 40, 50, 60, 70, 80, 90, 100]\n",
    "\n",
    "# Practice Question 1: Write a Python program to access the first element of the list\n",
    "first_element = numbers[0]\n",
    "print(\"First element:\", first_element)\n",
    "\n",
    "# Practice Question 2:Write a Python program to access the last element of the list\n",
    "last_element = numbers[-1]\n",
    "print(\"Last element:\", last_element)\n",
    "\n",
    "# Practice Question 3: Write a Python program to get the first three elements of the list\n",
    "first_three_elements = numbers[:3]\n",
    "print(\"First three elements:\", first_three_elements)\n",
    "\n",
    "# Practice Question 3: Write a Python program to get the last three elements of the list\n",
    "last_three_elements = numbers[-3:]\n",
    "print(\"Last three elements:\", last_three_elements)\n",
    "\n",
    "# Practice Question 5: Write a Python program to access every second element of the list\n",
    "every_second_element = numbers[::2]\n",
    "print(\"Every second element:\", every_second_element)\n"
   ]
  },
  {
   "cell_type": "markdown",
   "metadata": {},
   "source": [
    "**Here there are some practice questions on List Methods and Functions**"
   ]
  },
  {
   "cell_type": "code",
   "execution_count": 6,
   "metadata": {},
   "outputs": [
    {
     "name": "stdout",
     "output_type": "stream",
     "text": [
      "List after appending 60: [10, 20, 30, 40, 50, 60]\n",
      "List after inserting 25 at index 2: [10, 20, 25, 30, 40, 50, 60]\n",
      "List after removing 40: [10, 20, 25, 30, 50, 60]\n",
      "Popped element: 60\n",
      "List after popping the last element: [10, 20, 25, 30, 50]\n",
      "Index of element 30: 3\n"
     ]
    }
   ],
   "source": [
    "# Sample List\n",
    "numbers = [10, 20, 30, 40, 50]\n",
    "\n",
    "# Practice Question 1:Write a Python program to append an element to the list\n",
    "numbers.append(60)\n",
    "print(\"List after appending 60:\", numbers)\n",
    "\n",
    "# Practice Question 2:Write a Python program to insert an element at a specific position in the list\n",
    "numbers.insert(2, 25) \n",
    "print(\"List after inserting 25 at index 2:\", numbers)\n",
    "\n",
    "# Practice Question 3:Write a Python program to remove a specific element from the list\n",
    "numbers.remove(40)  \n",
    "print(\"List after removing 40:\", numbers)\n",
    "\n",
    "# Practice Question 4:Write a Python program to pop an element from the list\n",
    "popped_element = numbers.pop() \n",
    "print(\"Popped element:\", popped_element)\n",
    "print(\"List after popping the last element:\", numbers)\n",
    "\n",
    "# Practice Question 5: Write a Python program to find the index of a specific element in the list\n",
    "index_of_30 = numbers.index(30)\n",
    "print(\"Index of element 30:\", index_of_30)\n"
   ]
  },
  {
   "cell_type": "markdown",
   "metadata": {},
   "source": [
    "**Here are five practice questions on searching and sorting with simpler code**"
   ]
  },
  {
   "cell_type": "code",
   "execution_count": 7,
   "metadata": {},
   "outputs": [
    {
     "name": "stdout",
     "output_type": "stream",
     "text": [
      "Element 30 exists in the list: True\n",
      "Element 20 occurs 1 times in the list\n",
      "Sorted list: [10, 20, 30, 40, 50, 60, 70, 80, 90, 100]\n",
      "Index of element 40: 4\n",
      "Sublist of the first 5 elements: [50, 20, 30, 10, 40]\n"
     ]
    }
   ],
   "source": [
    "# Sample List\n",
    "numbers = [50, 20, 30, 10, 40, 60, 70, 80, 90, 100]\n",
    "\n",
    "# Practice Question 1:  Write a Python program to check if an element exists in the list\n",
    "target = 30\n",
    "exists = target in numbers\n",
    "print(f\"Element {target} exists in the list:\", exists)\n",
    "\n",
    "# Practice Question 2:  Write a Python program to count the occurrences of an element in the list\n",
    "target = 20\n",
    "count = numbers.count(target)\n",
    "print(f\"Element {target} occurs {count} times in the list\")\n",
    "\n",
    "# Practice Question 3:Write a Python program to sort the list in ascending order\n",
    "sorted_numbers = sorted(numbers)\n",
    "print(\"Sorted list:\", sorted_numbers)\n",
    "\n",
    "# Practice Question 4:Write a Python program to find the index of a specific element in the list\n",
    "target = 40\n",
    "index = numbers.index(target)\n",
    "print(f\"Index of element {target}:\", index)\n",
    "\n",
    "# Practice Question 5: Write a Python program to get a sublist of the first 5 elements\n",
    "sublist = numbers[:5]\n",
    "print(\"Sublist of the first 5 elements:\", sublist)\n"
   ]
  },
  {
   "cell_type": "markdown",
   "metadata": {},
   "source": [
    "## Sets"
   ]
  },
  {
   "cell_type": "markdown",
   "metadata": {},
   "source": [
    "**Some practice Question on Set Operations in Python.**"
   ]
  },
  {
   "cell_type": "markdown",
   "metadata": {},
   "source": [
    "**Union (|):**"
   ]
  },
  {
   "cell_type": "code",
   "execution_count": 10,
   "metadata": {},
   "outputs": [
    {
     "name": "stdout",
     "output_type": "stream",
     "text": [
      "{'lemon', 'apple', 'orange', 'banana', 'lime', 'cherry'}\n",
      "{1, 2, 3, 4, 5, 6, 7, 8}\n"
     ]
    }
   ],
   "source": [
    "# Practice Question 1: Create two sets, fruits and citrus, and find their union.\n",
    "fruits = {'apple', 'banana', 'cherry'}\n",
    "citrus = {'orange', 'lemon', 'lime'}\n",
    "\n",
    "# Find the union\n",
    "all_fruits = fruits | citrus\n",
    "print(all_fruits)\n",
    "\n",
    "# Practice Question: Given two sets of integers, find their union\n",
    "set1 = {1, 2, 3, 4, 5}\n",
    "set2 = {4, 5, 6, 7, 8}\n",
    "\n",
    "# Find the union\n",
    "union_set = set1.union(set2)\n",
    "print(union_set)"
   ]
  },
  {
   "cell_type": "markdown",
   "metadata": {},
   "source": [
    "**Intersection (&):**"
   ]
  },
  {
   "cell_type": "code",
   "execution_count": 12,
   "metadata": {},
   "outputs": [
    {
     "name": "stdout",
     "output_type": "stream",
     "text": [
      "{'Python', 'JavaScript'}\n",
      "{104, 105, 103}\n"
     ]
    }
   ],
   "source": [
    "#Practice Question 1: Find the common elements between two sets of programming languages.\n",
    "langs1 = {'Python', 'Java', 'C++', 'JavaScript'}\n",
    "langs2 = {'JavaScript', 'TypeScript', 'Python', 'Rust'}\n",
    "\n",
    "# Find the intersection\n",
    "common_langs = langs1 & langs2\n",
    "print(common_langs)\n",
    "\n",
    "# Practice Question 2: Given two sets of student IDs, find the IDs of students enrolled in both classes.\n",
    "class_a = {101, 102, 103, 104, 105}\n",
    "class_b = {103, 104, 105, 106, 107}\n",
    "\n",
    "# Find the intersection\n",
    "both_classes = class_a.intersection(class_b)\n",
    "print(both_classes)"
   ]
  },
  {
   "cell_type": "markdown",
   "metadata": {},
   "source": [
    "**Difference (-)**"
   ]
  },
  {
   "cell_type": "code",
   "execution_count": 13,
   "metadata": {},
   "outputs": [
    {
     "name": "stdout",
     "output_type": "stream",
     "text": [
      "{'red', 'blue'}\n",
      "{'To Kill a Mockingbird', '1984'}\n"
     ]
    }
   ],
   "source": [
    "# Question: Find the elements in set_a that are not in set_b.\n",
    "set_a = {'red', 'green', 'blue', 'yellow'}\n",
    "set_b = {'green', 'yellow', 'orange'}\n",
    "\n",
    "# Find the difference\n",
    "unique_to_a = set_a - set_b\n",
    "print(unique_to_a)\n",
    "\n",
    "# Question: Given two sets of book titles, find the titles that are only in the first set.\n",
    "books1 = {'1984', 'To Kill a Mockingbird', 'Pride and Prejudice'}\n",
    "books2 = {'Pride and Prejudice', 'The Great Gatsby', 'Moby Dick'}\n",
    "\n",
    "# Find the difference\n",
    "only_in_books1 = books1.difference(books2)\n",
    "print(only_in_books1)"
   ]
  },
  {
   "cell_type": "markdown",
   "metadata": {},
   "source": [
    "**Tuple in python**"
   ]
  },
  {
   "cell_type": "code",
   "execution_count": 14,
   "metadata": {},
   "outputs": [
    {
     "name": "stdout",
     "output_type": "stream",
     "text": [
      "1a. Colors of the Indian flag: ('saffron', 'white', 'green')\n",
      "1b. Coordinates of the Taj Mahal: (27.1751, 78.0421)\n",
      "2a. Second fruit: banana, Last fruit: lychee\n",
      "2b. Sliced area codes: (22, 33, 44)\n",
      "3a. Name: Rahul, Age: 25, Job: Software Engineer\n",
      "3b. City1: Mumbai, City2: Delhi, Other cities: ['Bangalore']\n",
      "4a. Greeting: ('Namaste', 'India')\n",
      "4b. Patriotic chant: ('Jai Hind', 'Jai Hind', 'Jai Hind')\n",
      "5a. Index of first 'Chennai': 1\n",
      "5b. Number of 'Diwali': 3\n"
     ]
    }
   ],
   "source": [
    "# Tuple Practice Questions \n",
    "\n",
    "# 1. Tuple Creation:\n",
    "# a) Question: Create a tuple `colors` containing the strings 'saffron', 'white', and 'green' (colors of the Indian flag).\n",
    "colors = ('saffron', 'white', 'green')\n",
    "print(\"1a. Colors of the Indian flag:\", colors)\n",
    "\n",
    "# b) Question: Create a tuple `landmark` representing the coordinates of the Taj Mahal (27.1751° N, 78.0421° E).\n",
    "landmark = (27.1751, 78.0421)\n",
    "print(\"1b. Coordinates of the Taj Mahal:\", landmark)\n",
    "\n",
    "# 2. Accessing Tuple Elements:\n",
    "# a) Question: Given the tuple `fruits = ('mango', 'banana', 'guava', 'lychee')`, access the second and last elements.\n",
    "fruits = ('mango', 'banana', 'guava', 'lychee')\n",
    "second_fruit = fruits[1]\n",
    "last_fruit = fruits[-1]\n",
    "print(f\"2a. Second fruit: {second_fruit}, Last fruit: {last_fruit}\")\n",
    "\n",
    "# b) Question: Given the tuple `numbers = (91, 22, 33, 44, 55)` (Indian area codes), slice it to get a new tuple containing the second to fourth elements.\n",
    "numbers = (91, 22, 33, 44, 55)\n",
    "sliced_numbers = numbers[1:4]\n",
    "print(\"2b. Sliced area codes:\", sliced_numbers)\n",
    "\n",
    "# 3. Tuple Unpacking:\n",
    "# a) Question: Unpack the tuple `person = ('Rahul', 25, 'Software Engineer')` into variables `name`, `age`, and `job`.\n",
    "person = ('Rahul', 25, 'Software Engineer')\n",
    "name, age, job = person\n",
    "print(f\"3a. Name: {name}, Age: {age}, Job: {job}\")\n",
    "\n",
    "# b) Question: Given the tuple `cities = ('Mumbai', 'Delhi', 'Bangalore')`, unpack the first two elements into `city1` and `city2`, and the rest into a list `other_cities`.\n",
    "cities = ('Mumbai', 'Delhi', 'Bangalore')\n",
    "city1, city2, *other_cities = cities\n",
    "print(f\"3b. City1: {city1}, City2: {city2}, Other cities: {other_cities}\")\n",
    "\n",
    "# 4. Tuple Concatenation:\n",
    "# a) Question: Concatenate tuples `t1 = ('Namaste',)` and `t2 = ('India',)` to form a new tuple.\n",
    "t1 = ('Namaste',)\n",
    "t2 = ('India',)\n",
    "greeting = t1 + t2\n",
    "print(\"4a. Greeting:\", greeting)\n",
    "\n",
    "# b) Question: Create a new tuple by repeating the tuple `bharatiya = ('Jai Hind',)` three times.\n",
    "bharatiya = ('Jai Hind',)\n",
    "chant = bharatiya * 3\n",
    "print(\"4b. Patriotic chant:\", chant)\n",
    "\n",
    "# 5. Tuple Methods and Functions:\n",
    "# a) Question: Find the index of the first occurrence of 'Chennai' in the tuple `cities = ('Kolkata', 'Chennai', 'Hyderabad', 'Chennai', 'Pune')`.\n",
    "cities = ('Kolkata', 'Chennai', 'Hyderabad', 'Chennai', 'Pune')\n",
    "index_chennai = cities.index('Chennai')\n",
    "print(f\"5a. Index of first 'Chennai': {index_chennai}\")\n",
    "\n",
    "# b) Question: Count the number of occurrences of 'Diwali' in the tuple `festivals = ('Holi', 'Diwali', 'Dussehra', 'Diwali', 'Eid', 'Diwali')`.\n",
    "festivals = ('Holi', 'Diwali', 'Dussehra', 'Diwali', 'Eid', 'Diwali')\n",
    "count_diwali = festivals.count('Diwali')\n",
    "print(f\"5b. Number of 'Diwali': {count_diwali}\")"
   ]
  },
  {
   "cell_type": "markdown",
   "metadata": {},
   "source": [
    "**Dictionaries in python**"
   ]
  },
  {
   "cell_type": "code",
   "execution_count": 26,
   "metadata": {},
   "outputs": [
    {
     "name": "stdout",
     "output_type": "stream",
     "text": [
      "1. Dictionary Creation:\n",
      "a) Student dictionary: {'name': 'Aarav', 'age': 18, 'grade': 'A'}\n",
      "b) State capitals: {'Maharashtra': 'Mumbai', 'Tamil Nadu': 'Chennai', 'Karnataka': 'Bengaluru'}\n",
      "\n",
      "2. Accessing Dictionary Elements:\n",
      "a) Capital of Tamil Nadu: Chennai\n",
      "b) Student's grade: A\n",
      "\n",
      "3. Adding/Updating Dictionary Elements:\n",
      "a) Updated student dictionary: {'name': 'Aarav', 'age': 18, 'grade': 'A', 'city': 'Delhi'}\n",
      "b) Updated capitals dictionary: {'Maharashtra': 'Mumbai', 'Tamil Nadu': 'Chennai', 'Karnataka': 'Bengaluru (Bangalore)'}\n",
      "\n",
      "4. Removing Dictionary Elements:\n",
      "a) Student dictionary after removing 'age': {'name': 'Aarav', 'grade': 'A', 'city': 'Delhi'}\n",
      "b) Removed capital: Mumbai, Updated capitals: {'Tamil Nadu': 'Chennai', 'Karnataka': 'Bengaluru (Bangalore)'}\n",
      "\n",
      "5. Dictionary Methods and Operations:\n",
      "a) Student dictionary keys: ['name', 'grade', 'city']\n",
      "b) Capitals dictionary values: ['Chennai', 'Bengaluru (Bangalore)']\n"
     ]
    }
   ],
   "source": [
    "# Dictionary Practice Questions\n",
    "\n",
    "# 1. Dictionary Creation:\n",
    "print(\"1. Dictionary Creation:\")\n",
    "\n",
    "# a) Create a dictionary `student` with keys 'name', 'age', and 'grade', and appropriate values.\n",
    "student = {'name': 'Aarav', 'age': 18, 'grade': 'A'}\n",
    "print(\"a) Student dictionary:\", student)\n",
    "\n",
    "# b) Create a dictionary `capitals` with Indian states as keys and their capitals as values.\n",
    "capitals = {'Maharashtra': 'Mumbai', 'Tamil Nadu': 'Chennai', 'Karnataka': 'Bengaluru'}\n",
    "print(\"b) State capitals:\", capitals)\n",
    "\n",
    "\n",
    "# 2. Accessing Dictionary Elements:\n",
    "print(\"\\n2. Accessing Dictionary Elements:\")\n",
    "\n",
    "# a) Access the value of 'Tamil Nadu' from the `capitals` dictionary.\n",
    "print(\"a) Capital of Tamil Nadu:\", capitals['Tamil Nadu'])\n",
    "\n",
    "# b) Use the get() method to access the value of 'grade' from `student`, with a default value.\n",
    "print(\"b) Student's grade:\", student.get('grade', 'Not available'))\n",
    "\n",
    "# 3. Adding/Updating Dictionary Elements:\n",
    "print(\"\\n3. Adding/Updating Dictionary Elements:\")\n",
    "\n",
    "# a) Add a new key-value pair 'city': 'Delhi' to the `student` dictionary.\n",
    "student['city'] = 'Delhi'\n",
    "print(\"a) Updated student dictionary:\", student)\n",
    "\n",
    "# b) Update the capital of 'Karnataka' to 'Bengaluru (Bangalore)' in the `capitals` dictionary.\n",
    "capitals['Karnataka'] = 'Bengaluru (Bangalore)'\n",
    "print(\"b) Updated capitals dictionary:\", capitals)\n",
    "\n",
    "\n",
    "# 4. Removing Dictionary Elements:\n",
    "print(\"\\n4. Removing Dictionary Elements:\")\n",
    "\n",
    "# a) Remove the 'age' key from the `student` dictionary using del keyword.\n",
    "del student['age']\n",
    "print(\"a) Student dictionary after removing 'age':\", student)\n",
    "\n",
    "# b) Remove 'is' from `word_freq` dictionary if it exists, without raising an error.\n",
    "removed_capital = capitals.pop('Maharashtra')\n",
    "print(f\"b) Removed capital: {removed_capital}, Updated capitals: {capitals}\")\n",
    "\n",
    "# 5. Dictionary Methods and Operations:\n",
    "print(\"\\n5. Dictionary Methods and Operations:\")\n",
    "\n",
    "# a) Get all the keys from the `student` dictionary.\n",
    "print(\"a) Student dictionary keys:\", list(student.keys()))\n",
    "\n",
    "# b) Get all the values from the `capitals` dictionary.\n",
    "print(\"b) Capitals dictionary values:\", list(capitals.values()))\n",
    "\n"
   ]
  }
 ],
 "metadata": {
  "kernelspec": {
   "display_name": "Python 3",
   "language": "python",
   "name": "python3"
  },
  "language_info": {
   "codemirror_mode": {
    "name": "ipython",
    "version": 3
   },
   "file_extension": ".py",
   "mimetype": "text/x-python",
   "name": "python",
   "nbconvert_exporter": "python",
   "pygments_lexer": "ipython3",
   "version": "3.11.4"
  }
 },
 "nbformat": 4,
 "nbformat_minor": 2
}
