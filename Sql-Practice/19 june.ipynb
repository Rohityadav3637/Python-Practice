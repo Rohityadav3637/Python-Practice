{
 "cells": [
  {
   "cell_type": "markdown",
   "metadata": {},
   "source": [
    "### Join"
   ]
  },
  {
   "cell_type": "markdown",
   "metadata": {},
   "source": [
    "**Definition:\n",
    "SQL joins are used to combine rows from two or more tables based on a related column between them.**"
   ]
  },
  {
   "cell_type": "markdown",
   "metadata": {},
   "source": [
    "1. INNER JOIN:\n",
    "Definition: Returns records that have matching values in both tables.\n",
    "Syntax:"
   ]
  },
  {
   "cell_type": "code",
   "execution_count": null,
   "metadata": {
    "vscode": {
     "languageId": "plaintext"
    }
   },
   "outputs": [],
   "source": [
    "SELECT columns\n",
    "FROM table1\n",
    "INNER JOIN table2\n",
    "ON table1.column = table2.column;"
   ]
  },
  {
   "cell_type": "markdown",
   "metadata": {},
   "source": [
    "2. LEFT (OUTER) JOIN:\n",
    "Definition: Returns all records from the left table, and the matched records from the right table"
   ]
  },
  {
   "cell_type": "code",
   "execution_count": null,
   "metadata": {
    "vscode": {
     "languageId": "plaintext"
    }
   },
   "outputs": [],
   "source": [
    "SELECT columns\n",
    "FROM table1\n",
    "LEFT JOIN table2\n",
    "ON table1.column = table2.column;"
   ]
  },
  {
   "cell_type": "markdown",
   "metadata": {},
   "source": [
    "3. RIGHT (OUTER) JOIN:\n",
    "Definition: Returns all records from the right table, and the matched records from the left table."
   ]
  },
  {
   "cell_type": "code",
   "execution_count": null,
   "metadata": {
    "vscode": {
     "languageId": "plaintext"
    }
   },
   "outputs": [],
   "source": [
    "SELECT columns\n",
    "FROM table1\n",
    "RIGHT JOIN table2\n",
    "ON table1.column = table2.column;"
   ]
  },
  {
   "cell_type": "markdown",
   "metadata": {},
   "source": [
    "4. FULL (OUTER) JOIN:\n",
    "Definition: Returns all records when there is a match in either left or right table."
   ]
  },
  {
   "cell_type": "code",
   "execution_count": null,
   "metadata": {
    "vscode": {
     "languageId": "plaintext"
    }
   },
   "outputs": [],
   "source": [
    "SELECT columns\n",
    "FROM table1\n",
    "FULL OUTER JOIN table2\n",
    "ON table1.column = table2.column;"
   ]
  },
  {
   "cell_type": "markdown",
   "metadata": {},
   "source": [
    "5. CROSS JOIN:\n",
    "Definition: Returns the Cartesian product of the two tables.\n",
    "Syntax"
   ]
  },
  {
   "cell_type": "code",
   "execution_count": null,
   "metadata": {
    "vscode": {
     "languageId": "plaintext"
    }
   },
   "outputs": [],
   "source": [
    "SELECT columns\n",
    "FROM table1\n",
    "CROSS JOIN table2;"
   ]
  },
  {
   "cell_type": "markdown",
   "metadata": {},
   "source": [
    "6. SELF JOIN:\n",
    "Definition: A join of a table with itself"
   ]
  },
  {
   "cell_type": "code",
   "execution_count": null,
   "metadata": {
    "vscode": {
     "languageId": "plaintext"
    }
   },
   "outputs": [],
   "source": [
    "SELECT columns\n",
    "FROM table1 T1, table1 T2\n",
    "WHERE condition;"
   ]
  },
  {
   "cell_type": "markdown",
   "metadata": {},
   "source": [
    "### Normalization"
   ]
  },
  {
   "cell_type": "markdown",
   "metadata": {},
   "source": [
    "**Definition:\n",
    "Normalization is the process of minimizing redundancy from a relation or set of relations.**"
   ]
  },
  {
   "cell_type": "markdown",
   "metadata": {},
   "source": [
    "Type of normalization:-\n",
    "\n",
    "1. First Normal Form (1NF):\n",
    "\n",
    "Definition: A table is in 1NF if it contains no repeating groups or arrays.\n",
    "\n",
    "-Rules:\n",
    "- Each column should contain atomic (indivisible) values\n",
    "- Each column should contain values of the same type\n",
    "- Each column should have a unique name\n",
    "- The order of data stored doesn't matter\n",
    "\n",
    "Example:\n",
    "Before 1NF:\n",
    "```\n",
    "| StudentID | Name      | Subjects            |\n",
    "| 1         | John Doe  | Math, Physics, Chem |\n",
    "```\n",
    "\n",
    "After 1NF:\n",
    "```\n",
    "| StudentID | Name      | Subject |\n",
    "| 1         | John Doe  | Math    |\n",
    "| 1         | John Doe  | Physics |\n",
    "| 1         | John Doe  | Chem    |\n",
    "```\n",
    "\n",
    "2. Second Normal Form (2NF):\n",
    "\n",
    "Definition: A table is in 2NF if it is in 1NF and all non-key attributes are fully functionally dependent on the primary key.\n",
    "\n",
    "Purpose:\n",
    "- Remove partial dependencies\n",
    "\n",
    "Rules:\n",
    "- Must be in 1NF\n",
    "- All non-key attributes depend on the entire primary key\n",
    "\n",
    "Example:\n",
    "Before 2NF:\n",
    "```\n",
    "| StudentID | Subject | Professor | ProfessorOffice |\n",
    "| 1         | Math    | Dr. Smith | Room 101        |\n",
    "| 1         | Physics | Dr. Jones | Room 202        |\n",
    "```\n",
    "\n",
    "After 2NF:\n",
    "```\n",
    "Students:\n",
    "| StudentID | Subject |\n",
    "| 1         | Math    |\n",
    "| 1         | Physics |\n",
    "\n",
    "Professors:\n",
    "| Subject | Professor | ProfessorOffice |\n",
    "| Math    | Dr. Smith | Room 101        |\n",
    "| Physics | Dr. Jones | Room 202        |\n",
    "```\n",
    "\n",
    "3. Third Normal Form (3NF):\n",
    "\n",
    "Definition: A table is in 3NF if it is in 2NF and all the attributes are directly dependent on the primary key.\n",
    "\n",
    "Purpose:\n",
    "- Eliminate transitive dependencies\n",
    "\n",
    "Rules:\n",
    "- Must be in 2NF\n",
    "- No transitive dependencies (where non-prime attributes depend on other non-prime attributes)\n",
    "\n",
    "Example:\n",
    "Before 3NF:\n",
    "```\n",
    "| StudentID | Subject | Professor | ProfessorDepartment |\n",
    "| 1         | Math    | Dr. Smith | Science             |\n",
    "| 2         | Physics | Dr. Jones | Science             |\n",
    "```\n",
    "\n",
    "After 3NF:\n",
    "```\n",
    "Students:\n",
    "| StudentID | Subject |\n",
    "| 1         | Math    |\n",
    "| 2         | Physics |\n",
    "\n",
    "Professors:\n",
    "| Professor | Subject | Department |\n",
    "| Dr. Smith | Math    | Science    |\n",
    "| Dr. Jones | Physics | Science    |\n",
    "```\n",
    "\n",
    "4. Boyce-Codd Normal Form (BCNF):\n",
    "\n",
    "Definition: A table is in BCNF if, for every dependency A → B, A is a superkey.\n",
    "\n",
    "Purpose:\n",
    "- Eliminate all functional dependencies that do not have a superkey\n",
    "\n",
    "Rules:\n",
    "- Must be in 3NF\n",
    "- For every functional dependency X → Y, X must be a superkey\n",
    "\n",
    "Example:\n",
    "Before BCNF:\n",
    "```\n",
    "| Student | Subject | Professor |\n",
    "| John    | Math    | Dr. Smith |\n",
    "| Jane    | Physics | Dr. Jones |\n",
    "```\n",
    "\n",
    "After BCNF:\n",
    "```\n",
    "Students:\n",
    "| StudentID | Student |\n",
    "| 1         | John    |\n",
    "| 2         | Jane    |\n",
    "\n",
    "Courses:\n",
    "| CourseID | Subject | Professor |\n",
    "| 101      | Math    | Dr. Smith |\n",
    "| 102      | Physics | Dr. Jones |\n",
    "\n",
    "Enrollments:\n",
    "| StudentID | CourseID |\n",
    "| 1         | 101      |\n",
    "| 2         | 102      |\n",
    "```\n",
    "\n",
    "5. Fourth Normal Form (4NF):\n",
    "\n",
    "Definition: A table is in 4NF if it is in BCNF and has no multi-valued dependencies.\n",
    "\n",
    "Purpose:\n",
    "- Eliminate multi-valued dependencies\n",
    "\n",
    "Rules:\n",
    "- Must be in BCNF\n",
    "- No multi-valued dependencies\n",
    "\n",
    "Example:\n",
    "Before 4NF:\n",
    "```\n",
    "| Student | Subject | Textbook |\n",
    "| John    | Math    | Book A   |\n",
    "| John    | Math    | Book B   |\n",
    "| John    | Physics | Book C   |\n",
    "```\n",
    "\n",
    "After 4NF:\n",
    "```\n",
    "StudentSubjects:\n",
    "| Student | Subject |\n",
    "| John    | Math    |\n",
    "| John    | Physics |\n",
    "\n",
    "SubjectTextbooks:\n",
    "| Subject | Textbook |\n",
    "| Math    | Book A   |\n",
    "| Math    | Book B   |\n",
    "| Physics | Book C   |\n",
    "```\n",
    "\n",
    "-This form is rarely used in practice due to its complexity and the fact that 4NF is usually sufficient for most applications.\n",
    "\n",
    "-Each higher normal form addresses more specific and rare data anomalies. I"
   ]
  }
 ],
 "metadata": {
  "language_info": {
   "name": "python"
  }
 },
 "nbformat": 4,
 "nbformat_minor": 2
}
