{
 "cells": [
  {
   "cell_type": "markdown",
   "metadata": {},
   "source": [
    "## 1.DQL(Data Query Language)"
   ]
  },
  {
   "cell_type": "markdown",
   "metadata": {},
   "source": [
    "- DQL allows you to query and retrieve specific data from one or more tables in a database, enabling data analysis, reporting, and other data-centric operations."
   ]
  },
  {
   "cell_type": "markdown",
   "metadata": {},
   "source": [
    "- The primary statement used in DQL is the SELECT statement, which allows you to query and retrieve data from one or more tables in a database."
   ]
  },
  {
   "cell_type": "markdown",
   "metadata": {},
   "source": [
    "### Key Points:-"
   ]
  },
  {
   "cell_type": "markdown",
   "metadata": {},
   "source": [
    "1. SELECT Statement:\n",
    "The basic syntax of the SELECT statement is as follows:"
   ]
  },
  {
   "cell_type": "code",
   "execution_count": null,
   "metadata": {},
   "outputs": [],
   "source": [
    "SELECT column1, column2 FROM table_name;"
   ]
  },
  {
   "cell_type": "markdown",
   "metadata": {},
   "source": [
    "2. WHERE Clause:\n",
    "The WHERE clause is used to filter the rows returned by the SELECT statement based on a specified condition"
   ]
  },
  {
   "cell_type": "code",
   "execution_count": null,
   "metadata": {},
   "outputs": [],
   "source": [
    "SELECT column1, column2, ...\n",
    "FROM table_name\n",
    "WHERE condition;"
   ]
  },
  {
   "cell_type": "markdown",
   "metadata": {},
   "source": [
    "3. ORDER BY Clause:\n",
    "The ORDER BY clause is used to sort the result set in ascending or descending order based on one or more columns"
   ]
  },
  {
   "cell_type": "code",
   "execution_count": null,
   "metadata": {},
   "outputs": [],
   "source": [
    "SELECT column1, column2, ...\n",
    "FROM table_name\n",
    "ORDER BY column_name [ASC|DESC];"
   ]
  },
  {
   "cell_type": "markdown",
   "metadata": {},
   "source": [
    "4. JOIN:\n",
    "JOINs are used to combine rows from two or more tables based on a related column between them"
   ]
  },
  {
   "cell_type": "markdown",
   "metadata": {},
   "source": [
    "###   In-built functions"
   ]
  },
  {
   "cell_type": "markdown",
   "metadata": {},
   "source": [
    "**SQL built-in functions are pre-defined functions provided by the SQL language to perform operations on data within a database.**"
   ]
  },
  {
   "cell_type": "markdown",
   "metadata": {},
   "source": [
    "**Categories and Syntax:-**\n",
    "\n"
   ]
  },
  {
   "cell_type": "markdown",
   "metadata": {},
   "source": [
    "1. Aggregate Functions: Used to perform calculations on a set of values and return a single value."
   ]
  },
  {
   "cell_type": "code",
   "execution_count": null,
   "metadata": {},
   "outputs": [],
   "source": [
    "COUNT(column_name)\n",
    "SUM(column_name)\n",
    "AVG(column_name)\n",
    "MAX(column_name)\n",
    "MIN(column_name)"
   ]
  },
  {
   "cell_type": "markdown",
   "metadata": {},
   "source": [
    "2. String Functions: Manipulate string data."
   ]
  },
  {
   "cell_type": "code",
   "execution_count": null,
   "metadata": {},
   "outputs": [],
   "source": [
    "CONCAT(string1, string2, ...)\n",
    "SUBSTRING(string, start, length)\n",
    "UPPER(string)\n",
    "LOWER(string)\n",
    "LENGTH(string)\n",
    "TRIM([LEADING|TRAILING|BOTH] trim_character FROM string)"
   ]
  },
  {
   "cell_type": "markdown",
   "metadata": {},
   "source": [
    "3. Date and Time Functions: Handle date and time data."
   ]
  },
  {
   "cell_type": "code",
   "execution_count": 2,
   "metadata": {},
   "outputs": [],
   "source": [
    "NOW()\n",
    "CURRENT_DATE()\n",
    "CURRENT_TIME()\n",
    "DATE(expression)\n",
    "YEAR(date)\n",
    "MONTH(date)\n",
    "DAY(date)\n"
   ]
  },
  {
   "cell_type": "markdown",
   "metadata": {},
   "source": [
    "4. Numeric Functions: Perform operations on numeric data"
   ]
  },
  {
   "cell_type": "code",
   "execution_count": 4,
   "metadata": {},
   "outputs": [],
   "source": [
    "ROUND(): Rounds a number to a specified number of decimal places.\n",
    "\n",
    "ABS(): Returns the absolute value of a number."
   ]
  },
  {
   "cell_type": "code",
   "execution_count": null,
   "metadata": {},
   "outputs": [],
   "source": []
  }
 ],
 "metadata": {
  "kernelspec": {
   "display_name": "Python 3",
   "language": "python",
   "name": "python3"
  },
  "language_info": {
   "codemirror_mode": {
    "name": "ipython",
    "version": 3
   },
   "file_extension": ".py",
   "mimetype": "text/x-python",
   "name": "python",
   "nbconvert_exporter": "python",
   "pygments_lexer": "ipython3",
   "version": "3.11.4"
  }
 },
 "nbformat": 4,
 "nbformat_minor": 2
}
