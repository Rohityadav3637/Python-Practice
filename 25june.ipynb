{
 "cells": [
  {
   "cell_type": "markdown",
   "metadata": {},
   "source": [
    "## Numpy"
   ]
  },
  {
   "cell_type": "markdown",
   "metadata": {},
   "source": [
    "- It is the fundamental package of scientific computing in python\n",
    "- It also has funtion for working in domain of linear algerbra, fourier transformation and matices."
   ]
  },
  {
   "cell_type": "markdown",
   "metadata": {},
   "source": [
    "Array"
   ]
  },
  {
   "cell_type": "markdown",
   "metadata": {},
   "source": [
    "- It story only contigous memory locations\n",
    "- It hold fixed number of item and that sould be same datatype"
   ]
  },
  {
   "cell_type": "markdown",
   "metadata": {},
   "source": [
    "Installing numpy in vs code"
   ]
  },
  {
   "cell_type": "code",
   "execution_count": 1,
   "metadata": {},
   "outputs": [
    {
     "name": "stdout",
     "output_type": "stream",
     "text": [
      "Requirement already satisfied: numpy in c:\\users\\rahul\\appdata\\local\\programs\\python\\python311\\lib\\site-packages (1.25.2)\n",
      "Note: you may need to restart the kernel to use updated packages.\n"
     ]
    },
    {
     "name": "stderr",
     "output_type": "stream",
     "text": [
      "\n",
      "[notice] A new release of pip is available: 24.1 -> 24.1.1\n",
      "[notice] To update, run: python.exe -m pip install --upgrade pip\n"
     ]
    }
   ],
   "source": [
    "pip install numpy"
   ]
  },
  {
   "cell_type": "code",
   "execution_count": 1,
   "metadata": {},
   "outputs": [
    {
     "name": "stdout",
     "output_type": "stream",
     "text": [
      "Hello\n"
     ]
    }
   ],
   "source": [
    "print(\"Hello\")"
   ]
  },
  {
   "cell_type": "markdown",
   "metadata": {},
   "source": [
    "Importing numpy"
   ]
  },
  {
   "cell_type": "code",
   "execution_count": 2,
   "metadata": {},
   "outputs": [],
   "source": [
    "  import numpy as np"
   ]
  },
  {
   "cell_type": "markdown",
   "metadata": {},
   "source": [
    "- Array:- It does not store comma spreated value"
   ]
  },
  {
   "cell_type": "code",
   "execution_count": 3,
   "metadata": {},
   "outputs": [
    {
     "name": "stdout",
     "output_type": "stream",
     "text": [
      "[10 20 30 40]\n",
      "<class 'numpy.ndarray'>\n"
     ]
    }
   ],
   "source": [
    "arr= np.array([10,20,30,40])\n",
    "print(arr)\n",
    "print(type(arr))"
   ]
  },
  {
   "cell_type": "markdown",
   "metadata": {},
   "source": [
    "1. 1D array"
   ]
  },
  {
   "cell_type": "code",
   "execution_count": 7,
   "metadata": {},
   "outputs": [
    {
     "name": "stdout",
     "output_type": "stream",
     "text": [
      "This is 1D array [10 20 30]\n"
     ]
    }
   ],
   "source": [
    "arr=np.array([10,20,30])\n",
    "print(\"This is 1D array\",arr)"
   ]
  },
  {
   "cell_type": "markdown",
   "metadata": {},
   "source": [
    "2. 2D array"
   ]
  },
  {
   "cell_type": "code",
   "execution_count": 14,
   "metadata": {},
   "outputs": [
    {
     "name": "stdout",
     "output_type": "stream",
     "text": [
      "This is 2D array  [[10 20 30]\n",
      " [40 50 60]]\n"
     ]
    }
   ],
   "source": [
    "arr=np.array([[10,20,30],[40,50,60]])\n",
    "print(\"This is 2D array \",arr)"
   ]
  },
  {
   "cell_type": "markdown",
   "metadata": {},
   "source": [
    "3. 3D array"
   ]
  },
  {
   "cell_type": "code",
   "execution_count": 15,
   "metadata": {},
   "outputs": [
    {
     "name": "stdout",
     "output_type": "stream",
     "text": [
      "This is 3D array  [[10 20 30]\n",
      " [40 50 60]\n",
      " [70 80 90]]\n"
     ]
    }
   ],
   "source": [
    "arr=np.array([[10,20,30],[40,50,60],[70,80,90]])\n",
    "print(\"This is 3D array \",arr)"
   ]
  },
  {
   "cell_type": "markdown",
   "metadata": {},
   "source": [
    "Slicing:- printing sepecific element of array"
   ]
  },
  {
   "cell_type": "code",
   "execution_count": 16,
   "metadata": {},
   "outputs": [
    {
     "name": "stdout",
     "output_type": "stream",
     "text": [
      "[10 20]\n"
     ]
    }
   ],
   "source": [
    "arr= np.array([10,20,30])\n",
    "print (arr[:2])"
   ]
  },
  {
   "cell_type": "code",
   "execution_count": 32,
   "metadata": {},
   "outputs": [
    {
     "name": "stdout",
     "output_type": "stream",
     "text": [
      "[[10 20]\n",
      " [50 60]]\n",
      "[70 80]\n",
      "[20 30]\n"
     ]
    }
   ],
   "source": [
    "# 2D array\n",
    "arr=np.array([[10,20,30,40],[50,60,70,80]])\n",
    "print(arr[0:2,0:2])\n",
    "#print 70,80\n",
    "print(arr[1,2:4])\n",
    "#print 20,30\n",
    "print(arr[0,1:3])"
   ]
  },
  {
   "cell_type": "code",
   "execution_count": 34,
   "metadata": {},
   "outputs": [
    {
     "name": "stdout",
     "output_type": "stream",
     "text": [
      "[60 80]\n"
     ]
    }
   ],
   "source": [
    "# 3D array\n",
    "arr=np.array([[10,20,30,40],[50,60,70,80],[20,40,60,80]])\n",
    "#print 60,80 from third array \n",
    "print(arr[2,2:4])\n"
   ]
  },
  {
   "cell_type": "code",
   "execution_count": null,
   "metadata": {},
   "outputs": [],
   "source": []
  },
  {
   "cell_type": "code",
   "execution_count": null,
   "metadata": {},
   "outputs": [
    {
     "name": "stdout",
     "output_type": "stream",
     "text": [
      "2.0.0\n"
     ]
    }
   ],
   "source": [
    "# Importing numpy library\n",
    "import numpy as np\n",
    "\n",
    "print(np.__version__)"
   ]
  },
  {
   "cell_type": "code",
   "execution_count": null,
   "metadata": {},
   "outputs": [
    {
     "name": "stdout",
     "output_type": "stream",
     "text": [
      "Number of dimensions (ndim): 2\n",
      "Shape of the array (shape): (2, 3)\n",
      "Total number of elements (size): 6\n",
      "Data type of elements (dtype): int64\n",
      "Size in bytes of each element (itemsize): 8\n",
      "Total bytes consumed by elements (nbytes): 48\n"
     ]
    }
   ],
   "source": [
    "# Attributes\n",
    "\n",
    "# Number of dimensions of the array\n",
    "print(\"Number of dimensions (ndim):\", array2.ndim) \n",
    "\n",
    "# Dimensions of the array\n",
    "print(\"Shape of the array (shape):\", array2.shape) \n",
    "\n",
    "# Number of elements in the array\n",
    "print(\"Total number of elements (size):\", array2.size)\n",
    "\n",
    "# Data type of the array elements\n",
    "print(\"Data type of elements (dtype):\", array2.dtype) \n",
    "\n",
    "# Size of each element in bytes \n",
    "print(\"Size in bytes of each element (itemsize):\", array2.itemsize)  \n",
    "\n",
    "# Total bytes consumed by the elements\n",
    "print(\"Total bytes consumed by elements (nbytes):\", array2.nbytes)  "
   ]
  },
  {
   "cell_type": "code",
   "execution_count": null,
   "metadata": {},
   "outputs": [
    {
     "name": "stdout",
     "output_type": "stream",
     "text": [
      "Array of zeros:\n",
      " [[0. 0. 0.]\n",
      " [0. 0. 0.]\n",
      " [0. 0. 0.]]\n",
      "Array of ones:\n",
      " [[1. 1. 1. 1.]\n",
      " [1. 1. 1. 1.]]\n",
      "Random array:\n",
      " [[0.83746899 0.04753412]\n",
      " [0.80560327 0.86576562]\n",
      " [0.7964766  0.51451454]]\n",
      "Range array: [0 2 4 6 8]\n",
      "Linspace array: [0.   0.25 0.5  0.75 1.  ]\n"
     ]
    }
   ],
   "source": [
    "# Functions\n",
    "\n",
    "# Create an array of zeros\n",
    "zeros_array = np.zeros((3, 3))  \n",
    "print(\"Array of zeros:\\n\", zeros_array)\n",
    "\n",
    "# Create an array of ones\n",
    "ones_array = np.ones((2, 4))  \n",
    "print(\"Array of ones:\\n\", ones_array)\n",
    "\n",
    "# Create an array of random values\n",
    "random_array = np.random.rand(3, 2)  \n",
    "print(\"Random array:\\n\", random_array)\n",
    "\n",
    "# Create an array with a range of values\n",
    "range_array = np.arange(0, 10, 2) \n",
    "print(\"Range array:\", range_array)\n",
    "\n",
    "# Create an array of evenly spaced values\n",
    "linspace_array = np.linspace(0, 1, 5) \n",
    "print(\"Linspace array:\", linspace_array)"
   ]
  },
  {
   "cell_type": "code",
   "execution_count": null,
   "metadata": {},
   "outputs": [
    {
     "name": "stdout",
     "output_type": "stream",
     "text": [
      "Accessed element: 3\n",
      "Sliced 1D array: [2 3 4]\n",
      "Sliced 2D array:\n",
      " [[2 3]\n",
      " [5 6]]\n"
     ]
    }
   ],
   "source": [
    "# Indexing and slicing\n",
    "\n",
    "# Access a single element\n",
    "element = array1[2]\n",
    "print(\"Accessed element:\", element)\n",
    "\n",
    "# Slice a 1D array\n",
    "slice_1d = array1[1:4]  \n",
    "print(\"Sliced 1D array:\", slice_1d)\n",
    "\n",
    "# Slice a 2D array\n",
    "slice_2d = array2[:, 1:3] \n",
    "print(\"Sliced 2D array:\\n\", slice_2d)\n"
   ]
  },
  {
   "cell_type": "code",
   "execution_count": null,
   "metadata": {},
   "outputs": [
    {
     "name": "stdout",
     "output_type": "stream",
     "text": [
      "Broadcasted array: [11 12 13 14 15]\n",
      "Broadcasted array: [-9 -8 -7 -6 -5]\n"
     ]
    }
   ],
   "source": [
    "# Broadcasting\n",
    "broadcast_a = array1 + 10  # Broadcast addition\n",
    "print(\"Broadcasted array:\", broadcast_a)\n",
    "\n",
    "# Broadcasting\n",
    "broadcast_b = array1 - 10  # Broadcast subtraction\n",
    "print(\"Broadcasted array:\", broadcast_b)"
   ]
  },
  {
   "cell_type": "code",
   "execution_count": null,
   "metadata": {},
   "outputs": [
    {
     "name": "stdout",
     "output_type": "stream",
     "text": [
      "Element-wise addition: [ 2  4  6  8 10]\n",
      "Element-wise multiplication: [ 1  4  9 16 25]\n",
      "Dot product: 55\n"
     ]
    }
   ],
   "source": [
    "# Operators\n",
    "\n",
    "# Element-wise addition\n",
    "sum_array = array1 + array1 \n",
    "print(\"Element-wise addition:\", sum_array)\n",
    "\n",
    "# Element-wise multiplication\n",
    "product_array = array1 * array1  \n",
    "print(\"Element-wise multiplication:\", product_array)\n",
    "\n",
    "# Dot product\n",
    "dot_product = np.dot(array1, array1)  \n",
    "print(\"Dot product:\", dot_product)"
   ]
  },
  {
   "cell_type": "code",
   "execution_count": null,
   "metadata": {},
   "outputs": [
    {
     "name": "stdout",
     "output_type": "stream",
     "text": [
      "Reshaped array:\n",
      " [[1]\n",
      " [2]\n",
      " [3]\n",
      " [4]\n",
      " [5]]\n",
      "Flattened array: [1 2 3 4 5 6]\n"
     ]
    }
   ],
   "source": [
    "# Array manipulation\n",
    "\n",
    "# Reshape the array\n",
    "reshaped_array = array1.reshape((5, 1))  \n",
    "print(\"Reshaped array:\\n\", reshaped_array)\n",
    "\n",
    "# Flatten the array\n",
    "flattened_array = array2.flatten() \n",
    "print(\"Flattened array:\", flattened_array)\n"
   ]
  },
  {
   "cell_type": "code",
   "execution_count": null,
   "metadata": {},
   "outputs": [
    {
     "name": "stdout",
     "output_type": "stream",
     "text": [
      "Vertically stacked array:\n",
      " [[1 2 3 4 5]\n",
      " [1 2 3 4 5]]\n",
      "Horizontally stacked array: [1 2 3 4 5 1 2 3 4 5]\n"
     ]
    }
   ],
   "source": [
    "# Stacking arrays\n",
    "\n",
    "# Vertical stack\n",
    "vstack_array = np.vstack((array1, array1))\n",
    "print(\"Vertically stacked array:\\n\", vstack_array)\n",
    "\n",
    "# Horizontal stack\n",
    "hstack_array = np.hstack((array1, array1))\n",
    "print(\"Horizontally stacked array:\", hstack_array)"
   ]
  },
  {
   "cell_type": "code",
   "execution_count": null,
   "metadata": {},
   "outputs": [
    {
     "name": "stdout",
     "output_type": "stream",
     "text": [
      "Split array: [array([1]), array([2]), array([3]), array([4]), array([5])]\n"
     ]
    }
   ],
   "source": [
    "# Splitting arrays: split the array into parts\n",
    "\n",
    "split_array = np.array_split(array1, 5)\n",
    "print(\"Split array:\", split_array)\n"
   ]
  },
  {
   "cell_type": "code",
   "execution_count": null,
   "metadata": {},
   "outputs": [
    {
     "name": "stdout",
     "output_type": "stream",
     "text": [
      "Array after addition: [1 2 3 4 5 6 7]\n",
      "Array after removal: [1 4 5]\n",
      "Array after insertion: [1 2 8 9 3 4 5]\n"
     ]
    }
   ],
   "source": [
    "# Adding and removing elements\n",
    "\n",
    "# Add elements to the array\n",
    "added_array = np.append(array1, [6, 7])\n",
    "print(\"Array after addition:\", added_array)\n",
    "\n",
    "# Remove elements from the array\n",
    "removed_array = np.delete(array1, [1, 2])\n",
    "print(\"Array after removal:\", removed_array)\n",
    "\n",
    "# Insert elements into the array\n",
    "inserted_array = np.insert(array1, 2, [8, 9])\n",
    "print(\"Array after insertion:\", inserted_array)"
   ]
  },
  {
   "cell_type": "code",
   "execution_count": null,
   "metadata": {},
   "outputs": [
    {
     "name": "stdout",
     "output_type": "stream",
     "text": [
      "Square root of array1: [1.         1.41421356 1.73205081 2.         2.23606798]\n",
      "Exponential of array1: [  2.71828183   7.3890561   20.08553692  54.59815003 148.4131591 ]\n",
      "Logarithm of array1: [0.         0.69314718 1.09861229 1.38629436 1.60943791]\n"
     ]
    }
   ],
   "source": [
    "# Mathematical functions\n",
    "\n",
    "# Square root of each element\n",
    "sqrt_array = np.sqrt(array1) \n",
    "print(\"Square root of array1:\", sqrt_array)\n",
    "\n",
    "# Exponential of each element\n",
    "exp_array = np.exp(array1)\n",
    "print(\"Exponential of array1:\", exp_array)\n",
    "\n",
    "# Natural logarithm of each element\n",
    "log_array = np.log(array1)\n",
    "print(\"Logarithm of array1:\", log_array)"
   ]
  },
  {
   "cell_type": "code",
   "execution_count": null,
   "metadata": {},
   "outputs": [
    {
     "name": "stdout",
     "output_type": "stream",
     "text": [
      "Even elements in array2: [2 4 6]\n"
     ]
    }
   ],
   "source": [
    "# Conditional Selection \n",
    "# Select elements that are even\n",
    "conditional_selection = array2[array2 % 2 == 0]  \n",
    "print(\"Even elements in array2:\", conditional_selection)"
   ]
  },
  {
   "cell_type": "code",
   "execution_count": null,
   "metadata": {},
   "outputs": [
    {
     "name": "stdout",
     "output_type": "stream",
     "text": [
      "Elements greater than 3: [4 5]\n"
     ]
    }
   ],
   "source": [
    "# Boolean indexing\n",
    "boolean_index = array1[array1 > 3]  \n",
    "print(\"Elements greater than 3:\", boolean_index)"
   ]
  },
  {
   "cell_type": "code",
   "execution_count": null,
   "metadata": {},
   "outputs": [
    {
     "name": "stdout",
     "output_type": "stream",
     "text": [
      "Mean of array1: 3.0\n",
      "Sum of array1: 15\n",
      "Standard deviation of array1: 1.4142135623730951\n",
      "Variance of array1: 2.0\n",
      "Minimum value in array1: 1\n",
      "Maximum value in array1: 5\n",
      "Index of minimum value in array1: 0\n",
      "Index of maximum value in array1: 4\n"
     ]
    }
   ],
   "source": [
    "# Statistical operations\n",
    "\n",
    "# Mean of the elements\n",
    "mean_value = np.mean(array1) \n",
    "print(\"Mean of array1:\", mean_value)\n",
    "\n",
    "# Sum of the elements\n",
    "sum_value = np.sum(array1)  \n",
    "print(\"Sum of array1:\", sum_value)\n",
    "\n",
    "# Standard deviation of the elements\n",
    "std_value = np.std(array1)  \n",
    "print(\"Standard deviation of array1:\", std_value)\n",
    "\n",
    "# Variance of the elements\n",
    "var_value = np.var(array1)\n",
    "print(\"Variance of array1:\", var_value)\n",
    "\n",
    "# Minimum value in the array\n",
    "min_value = np.min(array1)  \n",
    "print(\"Minimum value in array1:\", min_value)\n",
    "\n",
    "# Maximum value in the array\n",
    "max_value = np.max(array1)  \n",
    "print(\"Maximum value in array1:\", max_value)\n",
    "\n",
    "# Index of the minimum value\n",
    "argmin_value = np.argmin(array1)  \n",
    "print(\"Index of minimum value in array1:\", argmin_value)\n",
    "\n",
    "# Index of the maximum value\n",
    "argmax_value = np.argmax(array1)  \n",
    "print(\"Index of maximum value in array1:\", argmax_value)"
   ]
  },
  {
   "cell_type": "code",
   "execution_count": null,
   "metadata": {},
   "outputs": [
    {
     "name": "stdout",
     "output_type": "stream",
     "text": [
      "Cumulative sum of array1: [ 1  3  6 10 15]\n",
      "Cumulative product of array1: [  1   2   6  24 120]\n"
     ]
    }
   ],
   "source": [
    "# Cumulative sum and product\n",
    "\n",
    "# Cumulative sum of elements\n",
    "cumsum_array = np.cumsum(array1)  \n",
    "print(\"Cumulative sum of array1:\", cumsum_array)\n",
    "\n",
    "# Cumulative product of elements\n",
    "cumprod_array = np.cumprod(array1) \n",
    "print(\"Cumulative product of array1:\", cumprod_array)"
   ]
  },
  {
   "cell_type": "code",
   "execution_count": null,
   "metadata": {},
   "outputs": [
    {
     "name": "stdout",
     "output_type": "stream",
     "text": [
      "Sorted array1: [1 2 3 4 5]\n",
      "Indices of sorted array1: [0 1 2 3 4]\n"
     ]
    }
   ],
   "source": [
    "# Sorting arrays\n",
    "\n",
    "# Sort the array\n",
    "sorted_array = np.sort(array1)  \n",
    "print(\"Sorted array1:\", sorted_array)\n",
    "\n",
    "# Indices of sorted elements\n",
    "argsort_array = np.argsort(array1)\n",
    "print(\"Indices of sorted array1:\", argsort_array)"
   ]
  },
  {
   "cell_type": "code",
   "execution_count": null,
   "metadata": {},
   "outputs": [
    {
     "name": "stdout",
     "output_type": "stream",
     "text": [
      "Unique elements in array1: [1 2 3 4 5]\n"
     ]
    }
   ],
   "source": [
    "# Unique elements\n",
    "unique_elements = np.unique(array1) \n",
    "print(\"Unique elements in array1:\", unique_elements)"
   ]
  },
  {
   "cell_type": "code",
   "execution_count": null,
   "metadata": {},
   "outputs": [
    {
     "name": "stdout",
     "output_type": "stream",
     "text": [
      "Transpose of array2:\n",
      " [[1 4]\n",
      " [2 5]\n",
      " [3 6]]\n",
      "Inverse of square_matrix:\n",
      " [[-2.   1. ]\n",
      " [ 1.5 -0.5]]\n"
     ]
    }
   ],
   "source": [
    "# Transpose and inverse of a matrix\n",
    "transpose_matrix = array2.T  \n",
    "print(\"Transpose of array2:\\n\", transpose_matrix)\n",
    "\n",
    "# Inverse of a matrix (only for square matrices)\n",
    "square_matrix = np.array([[1, 2], [3, 4]])\n",
    "inverse_matrix = np.linalg.inv(square_matrix)  \n",
    "print(\"Inverse of square_matrix:\\n\", inverse_matrix)"
   ]
  },
  {
   "cell_type": "code",
   "execution_count": null,
   "metadata": {},
   "outputs": [
    {
     "name": "stdout",
     "output_type": "stream",
     "text": [
      "Matrix product of array2 and its transpose:\n",
      " [[14 32]\n",
      " [32 77]]\n",
      "Determinant of square_matrix: -2.0000000000000004\n",
      "Eigenvalues of square_matrix: [-0.37228132  5.37228132]\n",
      "Eigenvectors of square_matrix:\n",
      " [[-0.82456484 -0.41597356]\n",
      " [ 0.56576746 -0.90937671]]\n"
     ]
    }
   ],
   "source": [
    "# Linear algebra operations\n",
    "# Matrix product\n",
    "matrix_product = np.dot(array2, array2.T)  \n",
    "print(\"Matrix product of array2 and its transpose:\\n\", matrix_product)\n",
    "\n",
    "# Determinant of the matrix\n",
    "determinant = np.linalg.det(square_matrix)  \n",
    "print(\"Determinant of square_matrix:\", determinant)\n",
    "\n",
    "# Eigenvalues and eigenvectors\n",
    "eigenvalues, eigenvectors = np.linalg.eig(square_matrix)  \n",
    "print(\"Eigenvalues of square_matrix:\", eigenvalues)\n",
    "print(\"Eigenvectors of square_matrix:\\n\", eigenvectors)"
   ]
  },
  {
   "cell_type": "code",
   "execution_count": null,
   "metadata": {},
   "outputs": [
    {
     "name": "stdout",
     "output_type": "stream",
     "text": [
      "Broadcasting result:\n",
      " [[2 4 6]\n",
      " [5 7 9]]\n"
     ]
    }
   ],
   "source": [
    "# Broadcasting rules\n",
    "# Broadcasting operation\n",
    "array_b = np.array([1, 2, 3])\n",
    "broadcast_result = array2 + array_b  \n",
    "print(\"Broadcasting result:\\n\", broadcast_result)\n"
   ]
  },
  {
   "cell_type": "code",
   "execution_count": null,
   "metadata": {},
   "outputs": [
    {
     "name": "stdout",
     "output_type": "stream",
     "text": [
      "Rotated array2 by 90 degrees:\n",
      " [[3 6]\n",
      " [2 5]\n",
      " [1 4]]\n",
      "Flipped array2:\n",
      " [[6 5 4]\n",
      " [3 2 1]]\n"
     ]
    }
   ],
   "source": [
    "# Advanced array manipulation\n",
    "# Rotate the array 90 degrees\n",
    "rotated_array = np.rot90(array2)  \n",
    "print(\"Rotated array2 by 90 degrees:\\n\", rotated_array)\n",
    "# Flip the array\n",
    "flipped_array = np.flip(array2)  \n",
    "print(\"Flipped array2:\\n\", flipped_array)"
   ]
  },
  {
   "cell_type": "code",
   "execution_count": null,
   "metadata": {},
   "outputs": [
    {
     "name": "stdout",
     "output_type": "stream",
     "text": [
      "Identity matrix:\n",
      " [[1. 0. 0.]\n",
      " [0. 1. 0.]\n",
      " [0. 0. 1.]]\n",
      "Diagonal array from array1:\n",
      " [[1 0 0 0 0]\n",
      " [0 2 0 0 0]\n",
      " [0 0 3 0 0]\n",
      " [0 0 0 4 0]\n",
      " [0 0 0 0 5]]\n"
     ]
    }
   ],
   "source": [
    "# Creating specific arrays\n",
    "# Identity matrix\n",
    "identity_matrix = np.eye(3)  \n",
    "print(\"Identity matrix:\\n\", identity_matrix)\n",
    "# Diagonal matrix\n",
    "diagonal_array = np.diag(array1)  \n",
    "print(\"Diagonal array from array1:\\n\", diagonal_array)"
   ]
  },
  {
   "cell_type": "code",
   "execution_count": null,
   "metadata": {},
   "outputs": [
    {
     "name": "stdout",
     "output_type": "stream",
     "text": [
      "Memory layout of array2:\n",
      "   C_CONTIGUOUS : True\n",
      "  F_CONTIGUOUS : False\n",
      "  OWNDATA : True\n",
      "  WRITEABLE : True\n",
      "  ALIGNED : True\n",
      "  WRITEBACKIFCOPY : False\n",
      "\n"
     ]
    }
   ],
   "source": [
    "# Memory layout\n",
    "array_flags = array2.flags  \n",
    "print(\"Memory layout of array2:\\n\", array_flags)"
   ]
  },
  {
   "cell_type": "code",
   "execution_count": null,
   "metadata": {},
   "outputs": [
    {
     "name": "stdout",
     "output_type": "stream",
     "text": [
      "Copied array1: [1 2 3 4 5]\n",
      "Deep copy of array2:\n",
      " [[1 2 3]\n",
      " [4 5 6]]\n",
      "Shallow copy (view) of array2:\n",
      " [[1 2 3]\n",
      " [4 5 6]]\n"
     ]
    }
   ],
   "source": [
    "# Copying arrays\n",
    "copied_array = np.copy(array1) \n",
    "print(\"Copied array1:\", copied_array)\n",
    "# Deep copy vs Shallow copy\n",
    "deep_copy = np.copy(array2)  # Deep copy\n",
    "shallow_copy = array2.view()  # Shallow copy\n",
    "print(\"Deep copy of array2:\\n\", deep_copy)\n",
    "print(\"Shallow copy (view) of array2:\\n\", shallow_copy)"
   ]
  }
 ],
 "metadata": {
  "kernelspec": {
   "display_name": "Python 3",
   "language": "python",
   "name": "python3"
  },
  "language_info": {
   "codemirror_mode": {
    "name": "ipython",
    "version": 3
   },
   "file_extension": ".py",
   "mimetype": "text/x-python",
   "name": "python",
   "nbconvert_exporter": "python",
   "pygments_lexer": "ipython3",
   "version": "3.11.4"
  }
 },
 "nbformat": 4,
 "nbformat_minor": 2
}
